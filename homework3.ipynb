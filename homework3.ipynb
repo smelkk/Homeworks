{
 "cells": [
  {
   "cell_type": "code",
   "execution_count": 1,
   "metadata": {},
   "outputs": [
    {
     "name": "stdout",
     "output_type": "stream",
     "text": [
      "Python version 3.9.7 (default, Sep 16 2021, 08:50:36) \n",
      "[Clang 10.0.0 ]\n",
      "Version info. sys.version_info(major=3, minor=9, micro=7, releaselevel='final', serial=0)\n"
     ]
    }
   ],
   "source": [
    "#1\n",
    "\n",
    "import sys\n",
    "\n",
    "print(\"Python version\", sys.version)\n",
    "print(\"Version info.\", sys.version_info)"
   ]
  },
  {
   "cell_type": "code",
   "execution_count": 2,
   "metadata": {},
   "outputs": [
    {
     "name": "stdout",
     "output_type": "stream",
     "text": [
      "Current date and time:\n",
      "2023-03-01 01:43:35\n"
     ]
    }
   ],
   "source": [
    "#2\n",
    "\n",
    "import datetime\n",
    "\n",
    "now = datetime.datetime.now()\n",
    "\n",
    "print(\"Current date and time:\")\n",
    "print(now.strftime(\"%Y-%m-%d %H:%M:%S\"))"
   ]
  },
  {
   "cell_type": "code",
   "execution_count": 3,
   "metadata": {},
   "outputs": [
    {
     "name": "stdout",
     "output_type": "stream",
     "text": [
      "The area of the circle is: 452.3893421169302\n"
     ]
    }
   ],
   "source": [
    "#3\n",
    "\n",
    "import math\n",
    "\n",
    "radius = input(\"Enter the radius: \")\n",
    "area = math.pi * float(radius) ** 2\n",
    "\n",
    "print(\"The area of the circle is:\", area)"
   ]
  },
  {
   "cell_type": "code",
   "execution_count": 4,
   "metadata": {},
   "outputs": [
    {
     "name": "stdout",
     "output_type": "stream",
     "text": [
      "The extension of the file is: rp\n"
     ]
    }
   ],
   "source": [
    "#4\n",
    "\n",
    "filename = input(\"Enter a filename: \")\n",
    "\n",
    "name, extension = filename.split(\".\")\n",
    "\n",
    "print(\"The extension of the file is:\", extension)"
   ]
  },
  {
   "cell_type": "code",
   "execution_count": 5,
   "metadata": {},
   "outputs": [
    {
     "name": "stdout",
     "output_type": "stream",
     "text": [
      "First and last colours are Red and Black\n"
     ]
    }
   ],
   "source": [
    "#5\n",
    "\n",
    "color_list =[\"Red\" , \"Green\" , \"White\" ,\"Black\"]\n",
    "print(\"First and last colours are\", color_list[0], \"and\", color_list[-1])\n"
   ]
  },
  {
   "cell_type": "code",
   "execution_count": 6,
   "metadata": {},
   "outputs": [
    {
     "name": "stdout",
     "output_type": "stream",
     "text": [
      "11 / 12 / 2014\n"
     ]
    }
   ],
   "source": [
    "#6\n",
    "\n",
    "exam_st_date = (11, 12, 2014)\n",
    "ls=[]\n",
    "for i in range(0, len(exam_st_date)):\n",
    "    ls.append(exam_st_date[i])\n",
    "\n",
    "for k in range(0,len(ls)):\n",
    "    ls[k]=str(ls[k])\n",
    "\n",
    "exams=\" / \".join(ls)\n",
    "print(exams)\n"
   ]
  },
  {
   "cell_type": "code",
   "execution_count": 7,
   "metadata": {},
   "outputs": [
    {
     "name": "stdout",
     "output_type": "stream",
     "text": [
      "122436\n"
     ]
    }
   ],
   "source": [
    "#7\n",
    "\n",
    "number=input(\"Enter a number: \")\n",
    "number1=str(number)*2\n",
    "number2=str(number)*3\n",
    "s=int(number)+int(number1)+int(number2)\n",
    "print(s)\n"
   ]
  },
  {
   "cell_type": "code",
   "execution_count": 8,
   "metadata": {},
   "outputs": [
    {
     "name": "stdout",
     "output_type": "stream",
     "text": [
      "The file aasd does not exist.\n"
     ]
    }
   ],
   "source": [
    "#16\n",
    "\n",
    "import os.path\n",
    "\n",
    "filename = input(\"Enter the filename to check: \")\n",
    "\n",
    "if os.path.exists(filename):\n",
    "    print(\"The file\", filename, \"exists.\")\n",
    "else:\n",
    "    print(\"The file\", filename, \"does not exist.\")\n"
   ]
  },
  {
   "cell_type": "code",
   "execution_count": 9,
   "metadata": {},
   "outputs": [
    {
     "name": "stdout",
     "output_type": "stream",
     "text": [
      "Python is running in 64-bit mode.\n"
     ]
    }
   ],
   "source": [
    "#17\n",
    "\n",
    "import struct\n",
    "\n",
    "\n",
    "bitness = struct.calcsize(\"P\") * 8\n",
    "\n",
    "if bitness == 32:\n",
    "    print(\"Python is running in 32-bit mode.\")\n",
    "elif bitness == 64:\n",
    "    print(\"Python is running in 64-bit mode.\")\n",
    "else:\n",
    "    print(\"Unable to determine the bitness of Python.\")\n"
   ]
  },
  {
   "cell_type": "code",
   "execution_count": 10,
   "metadata": {},
   "outputs": [
    {
     "name": "stdout",
     "output_type": "stream",
     "text": [
      "OS name: Darwin\n",
      "Platform name: macOS-10.16-x86_64-i386-64bit\n",
      "Release version: 22.2.0\n"
     ]
    }
   ],
   "source": [
    "#18\n",
    "\n",
    "import platform\n",
    "\n",
    "os_name = platform.system()\n",
    "\n",
    "platform_name = platform.platform()\n",
    "\n",
    "release_version = platform.release()\n",
    "\n",
    "print(\"OS name:\", os_name)\n",
    "print(\"Platform name:\", platform_name)\n",
    "print(\"Release version:\", release_version)\n"
   ]
  },
  {
   "cell_type": "code",
   "execution_count": 11,
   "metadata": {},
   "outputs": [
    {
     "name": "stdout",
     "output_type": "stream",
     "text": [
      "Applications\n",
      "Library\n",
      "System\n",
      "Users\n",
      "Volumes\n",
      "bin\n",
      "cores\n",
      "dev\n",
      "etc\n",
      "home\n",
      "opt\n",
      "private\n",
      "sbin\n",
      "tmp\n",
      "usr\n",
      "var\n",
      "Command executed successfully.\n"
     ]
    }
   ],
   "source": [
    "#19\n",
    "\n",
    "import subprocess\n",
    "\n",
    "if subprocess.call([\"ls\"]) == 0:\n",
    "    print(\"Command executed successfully.\")\n",
    "else:\n",
    "    print(\"Command failed to execute.\")\n"
   ]
  },
  {
   "cell_type": "code",
   "execution_count": 12,
   "metadata": {},
   "outputs": [
    {
     "name": "stdout",
     "output_type": "stream",
     "text": [
      "Number of CPUs: 8\n"
     ]
    }
   ],
   "source": [
    "#20\n",
    "\n",
    "import multiprocessing\n",
    "\n",
    "num_cpus = multiprocessing.cpu_count()\n",
    "\n",
    "print(\"Number of CPUs:\", num_cpus)\n"
   ]
  },
  {
   "cell_type": "code",
   "execution_count": 13,
   "metadata": {},
   "outputs": [
    {
     "name": "stdout",
     "output_type": "stream",
     "text": [
      "Files in / directory:\n",
      ".file\n"
     ]
    }
   ],
   "source": [
    "#21\n",
    "\n",
    "import os\n",
    "\n",
    "dir_path = os.getcwd()\n",
    "\n",
    "file_list = os.listdir(dir_path)\n",
    "\n",
    "print(\"Files in\", dir_path, \"directory:\")\n",
    "for file_name in file_list:\n",
    "    if os.path.isfile(os.path.join(dir_path, file_name)):\n",
    "        print(file_name)\n"
   ]
  },
  {
   "cell_type": "code",
   "execution_count": 14,
   "metadata": {},
   "outputs": [
    {
     "name": "stdout",
     "output_type": "stream",
     "text": [
      "Sorted integers: 12 13 14\n"
     ]
    }
   ],
   "source": [
    "#22\n",
    "\n",
    "a = int(input(\"Enter first integer: \"))\n",
    "b = int(input(\"Enter second integer: \"))\n",
    "c = int(input(\"Enter third integer: \"))\n",
    "\n",
    "min_val = min(a, b, c)\n",
    "max_val = max(a, b, c)\n",
    "mid_val = (a + b + c) - min_val - max_val\n",
    "\n",
    "print(\"Sorted integers:\", min_val, mid_val, max_val)\n"
   ]
  },
  {
   "cell_type": "code",
   "execution_count": 15,
   "metadata": {},
   "outputs": [
    {
     "name": "stdout",
     "output_type": "stream",
     "text": [
      "Files in / sorted by creation date:\n",
      ".file 2022-12-02 15:37:28\n"
     ]
    }
   ],
   "source": [
    "#23\n",
    "\n",
    "import os\n",
    "import datetime\n",
    "\n",
    "dir_path = os.getcwd()\n",
    "\n",
    "file_list = os.listdir(dir_path)\n",
    "\n",
    "# Creating a dictionary to store the file creation times\n",
    "creation_times = {}\n",
    "for file_name in file_list:\n",
    "    file_path = os.path.join(dir_path, file_name)\n",
    "    if os.path.isfile(file_path):\n",
    "        creation_time = os.path.getctime(file_path)\n",
    "        creation_times[file_name] = datetime.datetime.fromtimestamp(creation_time)\n",
    "\n",
    "# Sorting the files by creation time\n",
    "sorted_files = sorted(creation_times.items(), key=lambda x: x[1])\n",
    "\n",
    "print('Files in', dir_path, 'sorted by creation date:')\n",
    "for file_name, creation_time in sorted_files:\n",
    "    print(file_name, creation_time)\n"
   ]
  },
  {
   "cell_type": "code",
   "execution_count": 16,
   "metadata": {},
   "outputs": [
    {
     "name": "stdout",
     "output_type": "stream",
     "text": [
      "All numbers in the list are greater than 4\n"
     ]
    }
   ],
   "source": [
    "#24\n",
    "\n",
    "ls = [5, 8, 12, 7, 10]\n",
    "\n",
    "fixed = 4\n",
    "\n",
    "for num in ls:\n",
    "    if num <= fixed:\n",
    "        print('Not all numbers in the list are greater than', fixed)\n",
    "        break\n",
    "else:\n",
    "    print('All numbers in the list are greater than', fixed)\n"
   ]
  },
  {
   "cell_type": "code",
   "execution_count": 17,
   "metadata": {},
   "outputs": [
    {
     "name": "stdout",
     "output_type": "stream",
     "text": [
      "The number of & in list is 2\n"
     ]
    }
   ],
   "source": [
    "#25\n",
    "\n",
    "ls = ['d',1,'&','P',2,1,'d',1,'%','&']\n",
    "spec = '&'\n",
    "s=0\n",
    "for i in ls:\n",
    "    if i==spec:\n",
    "        s+=1\n",
    "print(\"The number of\", spec, 'in list is',s)\n"
   ]
  },
  {
   "cell_type": "code",
   "execution_count": 18,
   "metadata": {},
   "outputs": [
    {
     "name": "stdout",
     "output_type": "stream",
     "text": [
      "Filename: myfile.csv\n"
     ]
    }
   ],
   "source": [
    "#26\n",
    "\n",
    "import os\n",
    "\n",
    "path = '/users/smelk/myfile.csv'\n",
    "\n",
    "filename = os.path.basename(path)\n",
    "\n",
    "print('Filename:', filename)\n"
   ]
  },
  {
   "cell_type": "code",
   "execution_count": 19,
   "metadata": {},
   "outputs": [
    {
     "name": "stdout",
     "output_type": "stream",
     "text": [
      "[2, 3, 4, 5]\n"
     ]
    }
   ],
   "source": [
    "#27\n",
    "\n",
    "ls = [1,2,3,4,5]\n",
    "ls.pop(0)\n",
    "print(ls)\n"
   ]
  },
  {
   "cell_type": "code",
   "execution_count": 20,
   "metadata": {},
   "outputs": [
    {
     "name": "stdout",
     "output_type": "stream",
     "text": [
      "Error: You did not enter a number.\n"
     ]
    }
   ],
   "source": [
    "#28\n",
    "\n",
    "my_input = input(\"Enter a number: \")\n",
    "\n",
    "try:\n",
    "    number = int(my_input)\n",
    "    print(\"You entered the number:\", number)\n",
    "except ValueError:\n",
    "    print(\"Error: You did not enter a number.\")\n"
   ]
  },
  {
   "cell_type": "code",
   "execution_count": 21,
   "metadata": {},
   "outputs": [
    {
     "name": "stdout",
     "output_type": "stream",
     "text": [
      "The rounded number is: 12.35\n"
     ]
    }
   ],
   "source": [
    "#29\n",
    "\n",
    "number = float(input(\"Enter a floating-point number: \"))\n",
    "\n",
    "decimals = int(input(\"Enter the number of decimal places to round to: \"))\n",
    "\n",
    "rounded_number = round(number, decimals)\n",
    "print(\"The rounded number is:\", rounded_number)\n"
   ]
  },
  {
   "cell_type": "code",
   "execution_count": 22,
   "metadata": {},
   "outputs": [
    {
     "name": "stdout",
     "output_type": "stream",
     "text": [
      "String contains lowercase letters.\n"
     ]
    }
   ],
   "source": [
    "#30\n",
    "\n",
    "string = input(\"Enter a string: \")\n",
    "if any(char.islower() for char in string):\n",
    "    print(\"String contains lowercase letters.\")\n",
    "else:\n",
    "    print(\"String does not contain lowercase letters.\")\n"
   ]
  },
  {
   "cell_type": "code",
   "execution_count": 23,
   "metadata": {},
   "outputs": [
    {
     "name": "stdout",
     "output_type": "stream",
     "text": [
      "Variable 1: sfsdf\n",
      "Variable 2: asfsf\n",
      "Variable 3: asfafsa\n"
     ]
    }
   ],
   "source": [
    "#31\n",
    "\n",
    "string = input(\"Enter a variable-length string: \")\n",
    "\n",
    "# Split the string into variables\n",
    "variable1, variable2, variable3 = string.split()\n",
    "\n",
    "# Print the variables\n",
    "print(\"Variable 1:\", variable1)\n",
    "print(\"Variable 2:\", variable2)\n",
    "print(\"Variable 3:\", variable3)\n"
   ]
  },
  {
   "cell_type": "code",
   "execution_count": 24,
   "metadata": {},
   "outputs": [
    {
     "name": "stdout",
     "output_type": "stream",
     "text": [
      "smelk\n"
     ]
    }
   ],
   "source": [
    "#32\n",
    "\n",
    "import os\n",
    "\n",
    "home_directory = os.path.expanduser(\"~\")\n",
    "base_directory = os.path.basename(home_directory)\n",
    "print(base_directory)\n"
   ]
  },
  {
   "cell_type": "code",
   "execution_count": 25,
   "metadata": {},
   "outputs": [
    {
     "name": "stdout",
     "output_type": "stream",
     "text": [
      "True is 1, False is 0\n"
     ]
    }
   ],
   "source": [
    "#33\n",
    "\n",
    "value1 = True\n",
    "value2 = False\n",
    "int1 = int(value1)\n",
    "int2 = int(value2)\n",
    "print(f\"{value1} is {int1}, {value2} is {int2}\")\n"
   ]
  },
  {
   "cell_type": "code",
   "execution_count": 26,
   "metadata": {},
   "outputs": [
    {
     "name": "stdout",
     "output_type": "stream",
     "text": [
      "00001101\n"
     ]
    }
   ],
   "source": [
    "34\n",
    "\n",
    "number = 13\n",
    "binary = format(number, '08b')\n",
    "print(binary)\n"
   ]
  },
  {
   "cell_type": "code",
   "execution_count": 27,
   "metadata": {},
   "outputs": [
    {
     "name": "stdout",
     "output_type": "stream",
     "text": [
      "The minimum number is -3\n",
      "The maximum number is 10\n"
     ]
    }
   ],
   "source": [
    "#35\n",
    "\n",
    "ls=[1,3,5,6,3,2,1,4,10,-3]\n",
    "max_ls=ls[0]\n",
    "min_ls=ls[0]\n",
    "for i in ls:\n",
    "    if max_ls<i:\n",
    "        max_ls=i\n",
    "    if i<min_ls:\n",
    "        min_ls=i\n",
    "print(\"The minimum number is\", min_ls)     \n",
    "print(\"The maximum number is\", max_ls)\n"
   ]
  },
  {
   "cell_type": "code",
   "execution_count": 28,
   "metadata": {},
   "outputs": [
    {
     "name": "stdout",
     "output_type": "stream",
     "text": [
      "The sum is 784\n"
     ]
    }
   ],
   "source": [
    "#36\n",
    "\n",
    "spec=8\n",
    "s=0\n",
    "for i in range(0,spec):\n",
    "    s+=i**3\n",
    "print(\"The sum is\", s)\n"
   ]
  }
 ],
 "metadata": {
  "kernelspec": {
   "display_name": "base",
   "language": "python",
   "name": "python3"
  },
  "language_info": {
   "codemirror_mode": {
    "name": "ipython",
    "version": 3
   },
   "file_extension": ".py",
   "mimetype": "text/x-python",
   "name": "python",
   "nbconvert_exporter": "python",
   "pygments_lexer": "ipython3",
   "version": "3.9.7"
  },
  "orig_nbformat": 4,
  "vscode": {
   "interpreter": {
    "hash": "a20ddc8edff524c940670cec554a38bcfe925c44de3f8ba19d63ea2e3074afa5"
   }
  }
 },
 "nbformat": 4,
 "nbformat_minor": 2
}
